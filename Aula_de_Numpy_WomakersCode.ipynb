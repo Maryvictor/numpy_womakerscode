{
  "nbformat": 4,
  "nbformat_minor": 0,
  "metadata": {
    "colab": {
      "provenance": [],
      "authorship_tag": "ABX9TyNL8KCk705R71rouowsw6Fi",
      "include_colab_link": true
    },
    "kernelspec": {
      "name": "python3",
      "display_name": "Python 3"
    },
    "language_info": {
      "name": "python"
    }
  },
  "cells": [
    {
      "cell_type": "markdown",
      "metadata": {
        "id": "view-in-github",
        "colab_type": "text"
      },
      "source": [
        "<a href=\"https://colab.research.google.com/github/Maryvictor/numpy_womakerscode/blob/main/Aula_de_Numpy_WomakersCode.ipynb\" target=\"_parent\"><img src=\"https://colab.research.google.com/assets/colab-badge.svg\" alt=\"Open In Colab\"/></a>"
      ]
    },
    {
      "cell_type": "code",
      "execution_count": 1,
      "metadata": {
        "id": "FjgoIC7d_YxH"
      },
      "outputs": [],
      "source": [
        "#importar biblioteca\n",
        "import numpy as np"
      ]
    },
    {
      "cell_type": "markdown",
      "source": [
        "# **Definições**\n",
        "\n",
        "**Listas** são estruturas mutáveis, o que significa que seus elementos podem ser alterados ou removidos. Por exemplo, podemos criar uma lista de números e, em seguida, alterar um dos números ou remover um deles.\n",
        "\n",
        "**Arrays** também são estruturas mutáveis, mas são otimizados para operações com índices. Por exemplo, podemos acessar um elemento de um array usando seu índice, o que é mais rápido do que acessar um elemento de uma lista usando sua posição.\n",
        "\n",
        "**Tuplas** são estruturas imutáveis, o que significa que seus elementos não podem ser alterados ou removidos. Por exemplo, uma tupla pode ser usada para armazenar um conjunto de dados que não precisa ser alterado, como os dados de um registro de banco de dados."
      ],
      "metadata": {
        "id": "PvXyur6pB6ng"
      }
    },
    {
      "cell_type": "code",
      "source": [
        "#declaração de uma lista\n",
        "\n",
        "l = [4, 8, 2, 12, 5, 8, 0]"
      ],
      "metadata": {
        "id": "dLwv3WyF_rIg"
      },
      "execution_count": 4,
      "outputs": []
    },
    {
      "cell_type": "code",
      "source": [
        "#a lista é transformada em Array\n",
        "arr = np.array(l)\n",
        "arr"
      ],
      "metadata": {
        "colab": {
          "base_uri": "https://localhost:8080/"
        },
        "id": "Y3lasFUE_t0w",
        "outputId": "4b4768fb-5ea4-4066-e44b-e383b48bdc49"
      },
      "execution_count": 5,
      "outputs": [
        {
          "output_type": "execute_result",
          "data": {
            "text/plain": [
              "array([ 4,  8,  2, 12,  5,  8,  0])"
            ]
          },
          "metadata": {},
          "execution_count": 5
        }
      ]
    },
    {
      "cell_type": "code",
      "source": [
        "#Outras formas de se inicializar um Array através do numpy do zero\n",
        "#np.zeros()\n",
        "#np.arange()\n",
        "#np.random.random"
      ],
      "metadata": {
        "id": "L0m9whhYCrEJ"
      },
      "execution_count": 7,
      "outputs": []
    },
    {
      "cell_type": "code",
      "source": [
        "#Inicializa uma matriz com numeros zeros, o primeiro número é de linhas, e o segundo colunas.\n",
        "\n",
        "np.zeros((5,2))"
      ],
      "metadata": {
        "colab": {
          "base_uri": "https://localhost:8080/"
        },
        "id": "kSOOb1jEDSYH",
        "outputId": "983192c1-3464-4b7a-8671-42b0e16cf04d"
      },
      "execution_count": 11,
      "outputs": [
        {
          "output_type": "execute_result",
          "data": {
            "text/plain": [
              "array([[0., 0.],\n",
              "       [0., 0.],\n",
              "       [0., 0.],\n",
              "       [0., 0.],\n",
              "       [0., 0.]])"
            ]
          },
          "metadata": {},
          "execution_count": 11
        }
      ]
    },
    {
      "cell_type": "code",
      "source": [
        "list(range(0,3))"
      ],
      "metadata": {
        "colab": {
          "base_uri": "https://localhost:8080/"
        },
        "id": "_9crejorEOrB",
        "outputId": "03371505-de33-4913-b6ba-f4385d55469b"
      },
      "execution_count": 16,
      "outputs": [
        {
          "output_type": "execute_result",
          "data": {
            "text/plain": [
              "[0, 1, 2]"
            ]
          },
          "metadata": {},
          "execution_count": 16
        }
      ]
    },
    {
      "cell_type": "code",
      "source": [
        "#esse metodo funciona como o de cima, mas em numpy\n",
        "array_range = np.arange(1,11)\n",
        "array_range"
      ],
      "metadata": {
        "colab": {
          "base_uri": "https://localhost:8080/"
        },
        "id": "zUcjmJAzD9cb",
        "outputId": "6d182928-180b-461c-ad33-2761c1404fca"
      },
      "execution_count": 21,
      "outputs": [
        {
          "output_type": "execute_result",
          "data": {
            "text/plain": [
              "array([ 1,  2,  3,  4,  5,  6,  7,  8,  9, 10])"
            ]
          },
          "metadata": {},
          "execution_count": 21
        }
      ]
    },
    {
      "cell_type": "code",
      "source": [
        "type(array_range)"
      ],
      "metadata": {
        "colab": {
          "base_uri": "https://localhost:8080/"
        },
        "id": "L983wvPMF_1w",
        "outputId": "d06360c1-f313-489f-d00d-1ed76abfe68e"
      },
      "execution_count": 22,
      "outputs": [
        {
          "output_type": "execute_result",
          "data": {
            "text/plain": [
              "numpy.ndarray"
            ]
          },
          "metadata": {},
          "execution_count": 22
        }
      ]
    },
    {
      "cell_type": "code",
      "source": [
        "np.random.random((3,3))"
      ],
      "metadata": {
        "colab": {
          "base_uri": "https://localhost:8080/"
        },
        "id": "FXufWU-yGMsh",
        "outputId": "34e9f0c2-3e74-482e-99fe-44ea175d20e7"
      },
      "execution_count": 24,
      "outputs": [
        {
          "output_type": "execute_result",
          "data": {
            "text/plain": [
              "array([[0.58369251, 0.96709048, 0.56814786],\n",
              "       [0.78880404, 0.03204055, 0.22074365],\n",
              "       [0.69665449, 0.31398707, 0.31973323]])"
            ]
          },
          "metadata": {},
          "execution_count": 24
        }
      ]
    },
    {
      "cell_type": "markdown",
      "source": [
        "# Atividades"
      ],
      "metadata": {
        "id": "i3X84PlDG238"
      }
    },
    {
      "cell_type": "markdown",
      "source": [
        "1 - Crie um array com 4 linhas e 3 colunas com valores aleatórios"
      ],
      "metadata": {
        "id": "X_ejjzQOG_bd"
      }
    },
    {
      "cell_type": "code",
      "source": [
        "array1 = np.random.random((4, 3))\n",
        "array1"
      ],
      "metadata": {
        "colab": {
          "base_uri": "https://localhost:8080/"
        },
        "id": "CURPY-ybHjIL",
        "outputId": "592eff16-7473-40f8-a2fa-d3316dcba9d3"
      },
      "execution_count": 27,
      "outputs": [
        {
          "output_type": "execute_result",
          "data": {
            "text/plain": [
              "array([[0.15899619, 0.2878026 , 0.09177522],\n",
              "       [0.21473336, 0.8986678 , 0.54527464],\n",
              "       [0.37132697, 0.00579054, 0.21522526],\n",
              "       [0.07509154, 0.41983745, 0.96500237]])"
            ]
          },
          "metadata": {},
          "execution_count": 27
        }
      ]
    },
    {
      "cell_type": "markdown",
      "source": [
        "2 - Crie um array com 5 colunas e 10 linhas inicializados com zeros"
      ],
      "metadata": {
        "id": "U_uj9-p0HNxy"
      }
    },
    {
      "cell_type": "code",
      "source": [
        "array2 = np.zeros((10, 5))\n",
        "array2"
      ],
      "metadata": {
        "colab": {
          "base_uri": "https://localhost:8080/"
        },
        "id": "GvNfql9oIDVg",
        "outputId": "248437b3-a049-4125-d196-92a5f0a95a8d"
      },
      "execution_count": 28,
      "outputs": [
        {
          "output_type": "execute_result",
          "data": {
            "text/plain": [
              "array([[0., 0., 0., 0., 0.],\n",
              "       [0., 0., 0., 0., 0.],\n",
              "       [0., 0., 0., 0., 0.],\n",
              "       [0., 0., 0., 0., 0.],\n",
              "       [0., 0., 0., 0., 0.],\n",
              "       [0., 0., 0., 0., 0.],\n",
              "       [0., 0., 0., 0., 0.],\n",
              "       [0., 0., 0., 0., 0.],\n",
              "       [0., 0., 0., 0., 0.],\n",
              "       [0., 0., 0., 0., 0.]])"
            ]
          },
          "metadata": {},
          "execution_count": 28
        }
      ]
    },
    {
      "cell_type": "markdown",
      "source": [
        "3 - Crie um array com valores inteiros 3 linhas e 5 colunas com valores aleatórios\n",
        "\n",
        "\n"
      ],
      "metadata": {
        "id": "EE26K3CTHVhm"
      }
    },
    {
      "cell_type": "code",
      "source": [
        "array3 = np.random.randint(0, 100, (3, 5))\n",
        "array3"
      ],
      "metadata": {
        "colab": {
          "base_uri": "https://localhost:8080/"
        },
        "id": "Hn6I3d2mInDO",
        "outputId": "e6c8047a-5489-41b2-81d5-0929d6684438"
      },
      "execution_count": 32,
      "outputs": [
        {
          "output_type": "execute_result",
          "data": {
            "text/plain": [
              "array([[12, 25, 36, 80, 91],\n",
              "       [31, 75, 92, 97, 27],\n",
              "       [91, 97, 53, 13, 96]])"
            ]
          },
          "metadata": {},
          "execution_count": 32
        }
      ]
    },
    {
      "cell_type": "markdown",
      "source": [],
      "metadata": {
        "id": "5ujQpUCeL0VA"
      }
    },
    {
      "cell_type": "markdown",
      "source": [
        "# Por que usar numpy e não listas?\n",
        "\n",
        "* Arrays NumPy aceita que todos os elementos sejam de\n",
        "diferentes tipo de dados, contudo o array sempre terá\n",
        "apenas um tipo de dados. Contudo a normal dentro da\n",
        "análise de dados que **usamos apenas um tipo de dados\n",
        "dentro de um array**.\n",
        "\n",
        "* Um único tipo de dados também resulta em arrays NumPy\n",
        "ocupando **menos espaço na memória** em comparação\n",
        "com listas.\n",
        "\n",
        "* Quando precisamos de uma **estrutura multidimensional**\n",
        "para armazenar os dados, optamos por arrays em vez de\n",
        "listas, pois as listas podem ser unidimensionais apenas.\n",
        "\n",
        "* Se precisarmos de um comprimento fixo e alocação\n",
        "estática, usamos arrays em vez de listas.\n",
        "\n",
        "* Quando é necessária uma processamento de dados mais\n",
        "rápido, preferimos arrays em vez de listas.\n",
        "\n",
        "* Tipos de dados primitivos podem ser armazenados\n",
        "diretamente em arrays, mas não em listas."
      ],
      "metadata": {
        "id": "V69C8OrPL1pu"
      }
    },
    {
      "cell_type": "markdown",
      "source": [],
      "metadata": {
        "id": "lk6UsRFRHLkq"
      }
    },
    {
      "cell_type": "code",
      "source": [
        "#array 3D\n",
        "\n",
        "arr1_2d = np.array([[1, 2], [3, 4]])\n",
        "arr2_2d = np.array([[5, 6], [7, 8]])\n",
        "arr3_2d = np.array([[9, 2], [3, 4]])\n",
        "\n",
        "arr_3d = np.array([arr1_2d, arr2_2d, arr3_2d])"
      ],
      "metadata": {
        "id": "HFw2YEe0Mua_"
      },
      "execution_count": 35,
      "outputs": []
    },
    {
      "cell_type": "code",
      "source": [
        "arr_3d"
      ],
      "metadata": {
        "colab": {
          "base_uri": "https://localhost:8080/"
        },
        "id": "mnBoswlIObli",
        "outputId": "76937904-01ff-4503-bbfc-d67afcb17175"
      },
      "execution_count": 36,
      "outputs": [
        {
          "output_type": "execute_result",
          "data": {
            "text/plain": [
              "array([[[1, 2],\n",
              "        [3, 4]],\n",
              "\n",
              "       [[5, 6],\n",
              "        [7, 8]],\n",
              "\n",
              "       [[9, 2],\n",
              "        [3, 4]]])"
            ]
          },
          "metadata": {},
          "execution_count": 36
        }
      ]
    },
    {
      "cell_type": "code",
      "source": [
        "arr = np.zeros((2,4))\n",
        "arr\n"
      ],
      "metadata": {
        "colab": {
          "base_uri": "https://localhost:8080/"
        },
        "id": "JXJc9_mJPTWc",
        "outputId": "60390075-196c-4f66-b412-9c5ec62702fa"
      },
      "execution_count": 37,
      "outputs": [
        {
          "output_type": "execute_result",
          "data": {
            "text/plain": [
              "array([[0., 0., 0., 0.],\n",
              "       [0., 0., 0., 0.]])"
            ]
          },
          "metadata": {},
          "execution_count": 37
        }
      ]
    },
    {
      "cell_type": "code",
      "source": [
        "#Retorna a forma do Array, onde temos 2 linhas e 4 colunas, shape é forma em inglês\n",
        "\n",
        "arr.shape"
      ],
      "metadata": {
        "colab": {
          "base_uri": "https://localhost:8080/"
        },
        "id": "9h4J4XgsPeBB",
        "outputId": "e82c8483-7797-4916-aaed-cdb81f10d550"
      },
      "execution_count": 39,
      "outputs": [
        {
          "output_type": "execute_result",
          "data": {
            "text/plain": [
              "(2, 4)"
            ]
          },
          "metadata": {},
          "execution_count": 39
        }
      ]
    },
    {
      "cell_type": "code",
      "source": [
        "#primeira dimensão é a linha, e segunda dimensão a coluna em array de 2 dimensões\n",
        "#flatter(acentador), coloca o array em apenas uma dimensão, pega o conjunto das linhas e transforma num só"
      ],
      "metadata": {
        "id": "CdlUlI_UQOZn"
      },
      "execution_count": 40,
      "outputs": []
    },
    {
      "cell_type": "code",
      "source": [
        "#temos o reshaping tb, ele redimensiona no formato que voce deseja\n",
        "arr = np.array([[3, 4,2], [8, 11, 5]])\n",
        "arr.reshape((3,2))"
      ],
      "metadata": {
        "colab": {
          "base_uri": "https://localhost:8080/"
        },
        "id": "D3Qrqm35RDt7",
        "outputId": "917ac811-fe30-41a0-a797-d1a0c1bc869f"
      },
      "execution_count": 42,
      "outputs": [
        {
          "output_type": "execute_result",
          "data": {
            "text/plain": [
              "array([[ 3,  4],\n",
              "       [ 2,  8],\n",
              "       [11,  5]])"
            ]
          },
          "metadata": {},
          "execution_count": 42
        }
      ]
    },
    {
      "cell_type": "code",
      "source": [
        "arr = np.zeros((2, 3, 4)) # 2 matrizes, 3 linhas, 4 colunas"
      ],
      "metadata": {
        "id": "5Vb1nfcORNot"
      },
      "execution_count": 50,
      "outputs": []
    },
    {
      "cell_type": "code",
      "source": [
        "arr = arr.flatten()\n",
        "arr"
      ],
      "metadata": {
        "colab": {
          "base_uri": "https://localhost:8080/"
        },
        "id": "0xFrvuSuVeix",
        "outputId": "d342af95-0b23-4ae8-97bb-b2a991c95ce4"
      },
      "execution_count": 51,
      "outputs": [
        {
          "output_type": "execute_result",
          "data": {
            "text/plain": [
              "array([0., 0., 0., 0., 0., 0., 0., 0., 0., 0., 0., 0., 0., 0., 0., 0., 0.,\n",
              "       0., 0., 0., 0., 0., 0., 0.])"
            ]
          },
          "metadata": {},
          "execution_count": 51
        }
      ]
    },
    {
      "cell_type": "markdown",
      "source": [
        "# Atividades"
      ],
      "metadata": {
        "id": "bKRsXDl-WXmR"
      }
    },
    {
      "cell_type": "markdown",
      "source": [
        "1 - Reduza o array (5,7) a apenas uma dimensão"
      ],
      "metadata": {
        "id": "JbcDpg1SWbWK"
      }
    },
    {
      "cell_type": "code",
      "source": [
        "arr1 = np.zeros((5,7))\n",
        "arr1"
      ],
      "metadata": {
        "colab": {
          "base_uri": "https://localhost:8080/"
        },
        "id": "ys8TtlvCX2wI",
        "outputId": "64c213d0-8ec8-454f-8eac-ebcb3076dd02"
      },
      "execution_count": 52,
      "outputs": [
        {
          "output_type": "execute_result",
          "data": {
            "text/plain": [
              "array([[0., 0., 0., 0., 0., 0., 0.],\n",
              "       [0., 0., 0., 0., 0., 0., 0.],\n",
              "       [0., 0., 0., 0., 0., 0., 0.],\n",
              "       [0., 0., 0., 0., 0., 0., 0.],\n",
              "       [0., 0., 0., 0., 0., 0., 0.]])"
            ]
          },
          "metadata": {},
          "execution_count": 52
        }
      ]
    },
    {
      "cell_type": "code",
      "source": [
        "arr1 = arr1.flatten()\n",
        "arr1"
      ],
      "metadata": {
        "colab": {
          "base_uri": "https://localhost:8080/"
        },
        "id": "Nzq0YhG6YFDZ",
        "outputId": "40b4f88e-2049-480f-e8bf-04abf96683b3"
      },
      "execution_count": 53,
      "outputs": [
        {
          "output_type": "execute_result",
          "data": {
            "text/plain": [
              "array([0., 0., 0., 0., 0., 0., 0., 0., 0., 0., 0., 0., 0., 0., 0., 0., 0.,\n",
              "       0., 0., 0., 0., 0., 0., 0., 0., 0., 0., 0., 0., 0., 0., 0., 0., 0.,\n",
              "       0.])"
            ]
          },
          "metadata": {},
          "execution_count": 53
        }
      ]
    },
    {
      "cell_type": "markdown",
      "source": [
        "2 - Considerando que você é uma organizadora de um jogo de bingo. Crie um array que irá representar a cartilha desses jogos de bingo. Os numeros da sua cartela variam entre 1 e 30, e voce terá 10 participipantes. Cada cartela terá 12 numeros (4, 3).\n",
        "\n",
        "Crie um array que represente esse jogo."
      ],
      "metadata": {
        "id": "CMG97MBNWoMK"
      }
    },
    {
      "cell_type": "code",
      "source": [
        "bingo = np.random.randint(1, 31, (10, 4, 3))\n",
        "bingo"
      ],
      "metadata": {
        "colab": {
          "base_uri": "https://localhost:8080/"
        },
        "id": "cj659DdbYUxP",
        "outputId": "5f021040-4e92-4f07-9fb8-c8ff01c48e82"
      },
      "execution_count": 57,
      "outputs": [
        {
          "output_type": "execute_result",
          "data": {
            "text/plain": [
              "array([[[20, 30,  1],\n",
              "        [19,  3, 14],\n",
              "        [10,  3, 13],\n",
              "        [10, 26, 15]],\n",
              "\n",
              "       [[15, 25,  7],\n",
              "        [ 2,  9, 20],\n",
              "        [11, 27, 26],\n",
              "        [15, 19, 11]],\n",
              "\n",
              "       [[13, 12,  4],\n",
              "        [ 7, 18,  5],\n",
              "        [ 5,  4, 16],\n",
              "        [ 7, 11,  5]],\n",
              "\n",
              "       [[ 9, 15, 19],\n",
              "        [16,  9,  6],\n",
              "        [27,  5, 28],\n",
              "        [17, 17,  2]],\n",
              "\n",
              "       [[14, 18, 22],\n",
              "        [ 9, 15,  5],\n",
              "        [ 8, 12,  5],\n",
              "        [25, 18, 23]],\n",
              "\n",
              "       [[29, 20, 29],\n",
              "        [14, 13, 13],\n",
              "        [ 2, 27,  4],\n",
              "        [25, 22,  7]],\n",
              "\n",
              "       [[ 9,  9, 27],\n",
              "        [25, 30,  4],\n",
              "        [ 2,  3, 10],\n",
              "        [25,  5, 11]],\n",
              "\n",
              "       [[15,  2, 30],\n",
              "        [ 6,  4, 20],\n",
              "        [30, 13,  4],\n",
              "        [ 3, 28, 19]],\n",
              "\n",
              "       [[30, 25, 21],\n",
              "        [29,  5,  4],\n",
              "        [19,  7,  2],\n",
              "        [21, 18, 17]],\n",
              "\n",
              "       [[10, 23,  9],\n",
              "        [23, 17, 15],\n",
              "        [21, 12, 30],\n",
              "        [19, 20, 25]]])"
            ]
          },
          "metadata": {},
          "execution_count": 57
        }
      ]
    },
    {
      "cell_type": "markdown",
      "source": [
        "3 - Faça o reshape das suas cartela para que haja 5 cartelas de 4 linhas e 6 colunas"
      ],
      "metadata": {
        "id": "-iNJnIvkXX2B"
      }
    },
    {
      "cell_type": "code",
      "source": [
        "bingo = bingo.reshape((5, 4, 6 ))\n",
        "bingo"
      ],
      "metadata": {
        "colab": {
          "base_uri": "https://localhost:8080/"
        },
        "id": "bhFv3_qOXjDI",
        "outputId": "89baa5cf-50d6-4b05-be28-23deca42fdee"
      },
      "execution_count": 58,
      "outputs": [
        {
          "output_type": "execute_result",
          "data": {
            "text/plain": [
              "array([[[20, 30,  1, 19,  3, 14],\n",
              "        [10,  3, 13, 10, 26, 15],\n",
              "        [15, 25,  7,  2,  9, 20],\n",
              "        [11, 27, 26, 15, 19, 11]],\n",
              "\n",
              "       [[13, 12,  4,  7, 18,  5],\n",
              "        [ 5,  4, 16,  7, 11,  5],\n",
              "        [ 9, 15, 19, 16,  9,  6],\n",
              "        [27,  5, 28, 17, 17,  2]],\n",
              "\n",
              "       [[14, 18, 22,  9, 15,  5],\n",
              "        [ 8, 12,  5, 25, 18, 23],\n",
              "        [29, 20, 29, 14, 13, 13],\n",
              "        [ 2, 27,  4, 25, 22,  7]],\n",
              "\n",
              "       [[ 9,  9, 27, 25, 30,  4],\n",
              "        [ 2,  3, 10, 25,  5, 11],\n",
              "        [15,  2, 30,  6,  4, 20],\n",
              "        [30, 13,  4,  3, 28, 19]],\n",
              "\n",
              "       [[30, 25, 21, 29,  5,  4],\n",
              "        [19,  7,  2, 21, 18, 17],\n",
              "        [10, 23,  9, 23, 17, 15],\n",
              "        [21, 12, 30, 19, 20, 25]]])"
            ]
          },
          "metadata": {},
          "execution_count": 58
        }
      ]
    },
    {
      "cell_type": "code",
      "source": [
        "np.array([0.9, 8.7, 6.5]).dtype"
      ],
      "metadata": {
        "colab": {
          "base_uri": "https://localhost:8080/"
        },
        "id": "ZM4tEzcXhZB_",
        "outputId": "301e0318-2cbd-4ace-fbfe-60b206a7e82a"
      },
      "execution_count": 59,
      "outputs": [
        {
          "output_type": "execute_result",
          "data": {
            "text/plain": [
              "dtype('float64')"
            ]
          },
          "metadata": {},
          "execution_count": 59
        }
      ]
    },
    {
      "cell_type": "code",
      "source": [
        "np.array([1, 6, 60, 43]).dtype"
      ],
      "metadata": {
        "colab": {
          "base_uri": "https://localhost:8080/"
        },
        "id": "1-yPPEDahn2u",
        "outputId": "1552a634-ad51-47c6-9169-8d30fd742286"
      },
      "execution_count": 60,
      "outputs": [
        {
          "output_type": "execute_result",
          "data": {
            "text/plain": [
              "dtype('int64')"
            ]
          },
          "metadata": {},
          "execution_count": 60
        }
      ]
    },
    {
      "cell_type": "code",
      "source": [
        "np.array(['Maria', 'Paulo', 'Vertigem']).dtype"
      ],
      "metadata": {
        "colab": {
          "base_uri": "https://localhost:8080/"
        },
        "id": "hY1aiprVhvju",
        "outputId": "b9317e92-5fc8-434d-8c94-3990d5ee7ffc"
      },
      "execution_count": 63,
      "outputs": [
        {
          "output_type": "execute_result",
          "data": {
            "text/plain": [
              "dtype('<U8')"
            ]
          },
          "metadata": {},
          "execution_count": 63
        }
      ]
    },
    {
      "cell_type": "code",
      "source": [
        "arr = np.array([0.76, 8.74, 6.53]).dtype\n",
        "arr\n"
      ],
      "metadata": {
        "colab": {
          "base_uri": "https://localhost:8080/"
        },
        "id": "Cu_33XRzFaLm",
        "outputId": "af434353-2069-47c3-e447-e1d8ca5cc324"
      },
      "execution_count": 69,
      "outputs": [
        {
          "output_type": "execute_result",
          "data": {
            "text/plain": [
              "dtype('float64')"
            ]
          },
          "metadata": {},
          "execution_count": 69
        }
      ]
    },
    {
      "cell_type": "code",
      "source": [
        "#Dtype com argumento\n",
        "arr = np.array([0.76, 8.74, 6.53], dtype=np.float32)\n",
        "arr"
      ],
      "metadata": {
        "colab": {
          "base_uri": "https://localhost:8080/"
        },
        "id": "ZPuRJPJLEUcR",
        "outputId": "c1187005-8d9a-495d-9497-696c95d83a5d"
      },
      "execution_count": 70,
      "outputs": [
        {
          "output_type": "execute_result",
          "data": {
            "text/plain": [
              "array([0.76, 8.74, 6.53], dtype=float32)"
            ]
          },
          "metadata": {},
          "execution_count": 70
        }
      ]
    },
    {
      "cell_type": "code",
      "source": [
        "#conversão, transforma True e False em 0 e 1\n",
        "arr = np.array([[True, False], [True, True]], dtype=np.bool8)\n",
        "arr\n"
      ],
      "metadata": {
        "colab": {
          "base_uri": "https://localhost:8080/"
        },
        "id": "fKGZOUqWFXrb",
        "outputId": "17a0246d-a075-4191-9759-d76843810e2c"
      },
      "execution_count": 72,
      "outputs": [
        {
          "output_type": "execute_result",
          "data": {
            "text/plain": [
              "array([[ True, False],\n",
              "       [ True,  True]])"
            ]
          },
          "metadata": {},
          "execution_count": 72
        }
      ]
    },
    {
      "cell_type": "code",
      "source": [
        "arr.astype(np.int32)"
      ],
      "metadata": {
        "colab": {
          "base_uri": "https://localhost:8080/"
        },
        "id": "CKIqIIY4GWwb",
        "outputId": "cba60fdb-e70a-44a7-f3a4-b4476a7e8b4b"
      },
      "execution_count": 73,
      "outputs": [
        {
          "output_type": "execute_result",
          "data": {
            "text/plain": [
              "array([[1, 0],\n",
              "       [1, 1]], dtype=int32)"
            ]
          },
          "metadata": {},
          "execution_count": 73
        }
      ]
    },
    {
      "cell_type": "code",
      "source": [
        "#coerção, nesse caso viram todos strings\n",
        "np.array(['Pedra', False, 0, 98.76])"
      ],
      "metadata": {
        "colab": {
          "base_uri": "https://localhost:8080/"
        },
        "id": "AzZRePc7Gter",
        "outputId": "d8bbb439-3092-4748-f0a4-ed8f4379ba95"
      },
      "execution_count": 74,
      "outputs": [
        {
          "output_type": "execute_result",
          "data": {
            "text/plain": [
              "array(['Pedra', 'False', '0', '98.76'], dtype='<U32')"
            ]
          },
          "metadata": {},
          "execution_count": 74
        }
      ]
    },
    {
      "cell_type": "code",
      "source": [
        "#hierarquia de coerção\n",
        "#Adicionar um float a um array de int mudará todo os valores para float.\n",
        "\n",
        "np.array([1, 4, 4]).dtype\n"
      ],
      "metadata": {
        "colab": {
          "base_uri": "https://localhost:8080/"
        },
        "id": "u0DBVqsqMTIN",
        "outputId": "b0163aeb-8472-4e3d-c01e-6986e60e1737"
      },
      "execution_count": 75,
      "outputs": [
        {
          "output_type": "execute_result",
          "data": {
            "text/plain": [
              "dtype('int64')"
            ]
          },
          "metadata": {},
          "execution_count": 75
        }
      ]
    },
    {
      "cell_type": "code",
      "source": [
        "x = np.array([1, 4, 4])\n",
        "x[1]"
      ],
      "metadata": {
        "colab": {
          "base_uri": "https://localhost:8080/"
        },
        "id": "-_YWovsFPLzp",
        "outputId": "c58ec051-7520-47aa-c820-01a5c0e1d954"
      },
      "execution_count": 79,
      "outputs": [
        {
          "output_type": "execute_result",
          "data": {
            "text/plain": [
              "4"
            ]
          },
          "metadata": {},
          "execution_count": 79
        }
      ]
    },
    {
      "cell_type": "code",
      "source": [
        "x = np.array([1, 4, 4, 4.5])\n",
        "x[1]\n"
      ],
      "metadata": {
        "colab": {
          "base_uri": "https://localhost:8080/"
        },
        "id": "loPcV2dTPV-7",
        "outputId": "69f785af-d614-4051-8479-44bb83f34196"
      },
      "execution_count": 80,
      "outputs": [
        {
          "output_type": "execute_result",
          "data": {
            "text/plain": [
              "4.0"
            ]
          },
          "metadata": {},
          "execution_count": 80
        }
      ]
    },
    {
      "cell_type": "code",
      "source": [
        "np.array([1, 4, 4, 3.3]).dtype\n"
      ],
      "metadata": {
        "colab": {
          "base_uri": "https://localhost:8080/"
        },
        "id": "S4wiBpPyNiUk",
        "outputId": "613b2796-0682-4690-db83-82fa58336b53"
      },
      "execution_count": 76,
      "outputs": [
        {
          "output_type": "execute_result",
          "data": {
            "text/plain": [
              "dtype('float64')"
            ]
          },
          "metadata": {},
          "execution_count": 76
        }
      ]
    },
    {
      "cell_type": "code",
      "source": [
        "#Adicionar um inteiro em um array de booleanos transformará todo o array em inteiros\n",
        "np.array([True, False]).dtype"
      ],
      "metadata": {
        "colab": {
          "base_uri": "https://localhost:8080/"
        },
        "id": "l9z0AW3GNrXo",
        "outputId": "379999cc-01c5-4cd5-aefb-e1ba95abc620"
      },
      "execution_count": 77,
      "outputs": [
        {
          "output_type": "execute_result",
          "data": {
            "text/plain": [
              "dtype('bool')"
            ]
          },
          "metadata": {},
          "execution_count": 77
        }
      ]
    },
    {
      "cell_type": "code",
      "source": [
        "np.array([True, False, 3]).dtype"
      ],
      "metadata": {
        "colab": {
          "base_uri": "https://localhost:8080/"
        },
        "id": "GJnKfXPQODmf",
        "outputId": "25f6e59d-ab75-4e3b-cb19-32564a6bba17"
      },
      "execution_count": 78,
      "outputs": [
        {
          "output_type": "execute_result",
          "data": {
            "text/plain": [
              "dtype('int64')"
            ]
          },
          "metadata": {},
          "execution_count": 78
        }
      ]
    }
  ]
}